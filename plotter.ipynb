{
 "cells": [
  {
   "cell_type": "code",
   "execution_count": 51,
   "metadata": {},
   "outputs": [],
   "source": [
    "import pandas as pd\n",
    "import matplotlib.pyplot as plt\n",
    "\n",
    "dataframe = pd.read_csv('data.csv', header=None, names=['map_cols', 'map_rows', 'agents', 'nodes_generated', 'nodes_expanded', 'runtime'])\n",
    "df = dataframe[['nodes_expanded', 'runtime']]\n"
   ]
  },
  {
   "cell_type": "code",
   "execution_count": 52,
   "metadata": {},
   "outputs": [
    {
     "data": {
      "text/plain": [
       "<AxesSubplot:xlabel='nodes_expanded', ylabel='runtime'>"
      ]
     },
     "execution_count": 52,
     "metadata": {},
     "output_type": "execute_result"
    },
    {
     "data": {
      "image/png": "[encoded data removed]",
      "text/plain": [
       "<Figure size 432x288 with 1 Axes>"
      ]
     },
     "metadata": {
      "needs_background": "light"
     },
     "output_type": "display_data"
    }
   ],
   "source": [
    "df.plot.scatter(x='nodes_expanded', y=\"runtime\")"
   ]
  },
  {
   "cell_type": "code",
   "execution_count": 53,
   "metadata": {},
   "outputs": [
    {
     "data": {
      "text/plain": [
       "(64, 2)"
      ]
     },
     "execution_count": 53,
     "metadata": {},
     "output_type": "execute_result"
    }
   ],
   "source": [
    "df.shape"
   ]
  },
  {
   "cell_type": "code",
   "execution_count": 61,
   "metadata": {},
   "outputs": [],
   "source": [
    "import random\n",
    "\n",
    "def make_empty_instance(filename, rows, cols, agents):\n",
    "    file = open(filename, 'w')\n",
    "    locs_generated = 0\n",
    "    \n",
    "    locations = []\n",
    "    while (locs_generated < agents*2):\n",
    "        rand_loc = (random.randint(1,rows-1), random.randint(1,cols-1))\n",
    "        if (rand_loc not in locations):\n",
    "            locations.append(rand_loc)\n",
    "            locs_generated += 1\n",
    "    \n",
    "    start_locs = locations[:agents]\n",
    "    goal_locs = locations[agents:]\n",
    "    \n",
    "    border = '@ ' * (cols+2) + '\\n'\n",
    "    file.write(f'{cols+2} {rows+2}\\n')\n",
    "    file.write(border)\n",
    "    for r in range(rows):\n",
    "        row = '@ '\n",
    "        for c in range(cols):\n",
    "            if ((r,c) in start_locs):\n",
    "                row += 'S '\n",
    "            elif ((r,c) in goal_locs):\n",
    "                row += 'G '\n",
    "            else:\n",
    "                row += '. '\n",
    "        row += '@'\n",
    "        file.write(row + '\\n')\n",
    "    file.write(border)\n",
    "    file.write(str(agents)+'\\n')\n",
    "    for i in range(agents):\n",
    "        res = f'{start_locs[i][0]} {start_locs[i][1]} {goal_locs[i][0]} {goal_locs[i][1]}\\n'\n",
    "        file.write(res)\n",
    "    "
   ]
  },
  {
   "cell_type": "code",
   "execution_count": 62,
   "metadata": {},
   "outputs": [],
   "source": [
    "filename = 'random_1.txt'\n",
    "make_empty_instance(filename,10,10,5)"
   ]
  },
  {
   "cell_type": "code",
   "execution_count": null,
   "metadata": {},
   "outputs": [],
   "source": []
  }
 ],
 "metadata": {
  "interpreter": {
   "hash": "10c3026f1289dbf037752cc9747463848e628156eb49370db5f4abd2b713cd63"
  },
  "kernelspec": {
   "display_name": "Python 3.9.5 64-bit",
   "language": "python",
   "name": "python3"
  },
  "language_info": {
   "codemirror_mode": {
    "name": "ipython",
    "version": 3
   },
   "file_extension": ".py",
   "mimetype": "text/x-python",
   "name": "python",
   "nbconvert_exporter": "python",
   "pygments_lexer": "ipython3",
   "version": "3.9.5"
  },
  "orig_nbformat": 4
 },
 "nbformat": 4,
 "nbformat_minor": 2
}
