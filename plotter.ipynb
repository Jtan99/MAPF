{
 "cells": [
  {
   "cell_type": "code",
   "execution_count": 14,
   "metadata": {},
   "outputs": [],
   "source": [
    "import pandas as pd\n",
    "import matplotlib.pyplot as plt\n",
    "\n",
    "dataframe = pd.read_csv('data_reg.csv', header=None, names=['map_cols', 'map_rows', 'agents', 'nodes_generated', 'nodes_expanded', 'density', 'runtime'])\n",
    "df = dataframe[['nodes_expanded', 'runtime', 'density']]\n",
    "\n",
    "dataframe2 = pd.read_csv('data_cg.csv', header=None, names=['map_cols', 'map_rows', 'agents', 'nodes_generated', 'nodes_expanded', 'density', 'runtime'])\n",
    "df2 = dataframe2[['nodes_expanded', 'runtime', 'density']]\n",
    "\n",
    "dataframe3 = pd.read_csv('data_dg.csv', header=None, names=['map_cols', 'map_rows', 'agents', 'nodes_generated', 'nodes_expanded', 'density', 'runtime'])\n",
    "df3 = dataframe3[['nodes_expanded', 'runtime', 'density']]\n",
    "\n",
    "dataframe4 = pd.read_csv('data_wdg.csv', header=None, names=['map_cols', 'map_rows', 'agents', 'nodes_generated', 'nodes_expanded', 'density', 'runtime'])\n",
    "df4 = dataframe4[['nodes_expanded', 'runtime', 'density']]\n"
   ]
  },
  {
   "cell_type": "code",
   "execution_count": 15,
   "metadata": {},
   "outputs": [
    {
     "data": {
      "text/plain": [
       "Text(0.5, 1.0, 'nodes_expanded vs runtime')"
      ]
     },
     "execution_count": 15,
     "metadata": {},
     "output_type": "execute_result"
    },
    {
     "data": {
      "image/png": "[encoded data removed]",
      "text/plain": [
       "<Figure size 432x288 with 1 Axes>"
      ]
     },
     "metadata": {
      "needs_background": "light"
     },
     "output_type": "display_data"
    }
   ],
   "source": [
    "ax = plt.gca()\n",
    "df.plot(kind='scatter', label='regular cbs', x='nodes_expanded', y=\"runtime\", ax=ax)\n",
    "df2.plot(kind='scatter', label='cg cbs', x='nodes_expanded', y=\"runtime\", color='red', ax=ax)\n",
    "df3.plot(kind='scatter', label='dg cbs', x='nodes_expanded', y=\"runtime\", color='green', ax=ax)\n",
    "df4.plot(kind='scatter', label='wdg cbs', x='nodes_expanded', y=\"runtime\", color='purple', ax=ax)\n",
    "ax.set_title('nodes_expanded vs runtime')\n"
   ]
  },
  {
   "cell_type": "code",
   "execution_count": null,
   "metadata": {},
   "outputs": [],
   "source": [
    "# plot the agent-density of instance vs runtime of solution\n",
    "ax = plt.gca()\n",
    "df.plot(kind='scatter', label='regular cbs', x='density', y=\"runtime\", ax=ax)\n",
    "df2.plot(kind='scatter', label='cg cbs', x='density', y=\"runtime\", color='red', ax=ax)\n",
    "df3.plot(kind='scatter', label='dg cbs', x='density', y=\"runtime\", color='green', ax=ax)\n",
    "df4.plot(kind='scatter', label='wdg cbs', x='density', y=\"runtime\", color='purple', ax=ax)\n",
    "ax.set_title('density vs runtime')\n",
    "\n",
    "# plot the agent-density of instance vs expanded nodes of solution\n",
    "ax2 = plt.gca()\n",
    "df.plot(kind='scatter', label='regular cbs', x='density', y=\"nodes_expanded\", ax=ax2)\n",
    "df2.plot(kind='scatter', label='cg cbs', x='density', y=\"nodes_expanded\", color='red', ax=ax2)\n",
    "df3.plot(kind='scatter', label='dg cbs', x='density', y=\"nodes_expanded\", color='green', ax=ax2)\n",
    "df4.plot(kind='scatter', label='wdg cbs', x='density', y=\"nodes_expanded\", color='purple', ax=ax2)\n",
    "ax2.set_title('density vs nodes_expanded')"
   ]
  },
  {
   "cell_type": "code",
   "execution_count": 71,
   "metadata": {},
   "outputs": [],
   "source": [
    "import random\n",
    "\n",
    "def make_empty_instance(filename, rows, cols, agents):\n",
    "    file = open(filename, 'w')\n",
    "    locs_generated = 0\n",
    "    \n",
    "    locations = []\n",
    "    while (locs_generated < agents*2):\n",
    "        rand_loc = (random.randint(1,rows-1), random.randint(1,cols-1))\n",
    "        if (rand_loc not in locations):\n",
    "            locations.append(rand_loc)\n",
    "            locs_generated += 1\n",
    "    \n",
    "    start_locs = locations[:agents]\n",
    "    goal_locs = locations[agents:]\n",
    "    \n",
    "    border = '@ ' * (cols+2) + '\\n'\n",
    "    file.write(f'{cols+2} {rows+2}\\n')\n",
    "    file.write(border)\n",
    "    for r in range(rows):\n",
    "        row = '@ '\n",
    "        for c in range(cols):\n",
    "            if ((r,c) in start_locs):\n",
    "                row += 'S '\n",
    "            elif ((r,c) in goal_locs):\n",
    "                row += 'G '\n",
    "            else:\n",
    "                # if (random.randint(1,10) <= 4):\n",
    "                #     row += '@ '\n",
    "                # else:\n",
    "                row += '. '\n",
    "        row += '@'\n",
    "        file.write(row + '\\n')\n",
    "    file.write(border)\n",
    "    file.write(str(agents)+'\\n')\n",
    "    for i in range(agents):\n",
    "        res = f'{start_locs[i][0]+1} {start_locs[i][1]+1} {goal_locs[i][0]+1} {goal_locs[i][1]+1}\\n'\n",
    "        file.write(res)\n",
    "    "
   ]
  },
  {
   "cell_type": "code",
   "execution_count": 70,
   "metadata": {},
   "outputs": [],
   "source": [
    "for i in range(1,11):\n",
    "    filename = 'more_walls/high_density/instance__' + str(i) + '.txt'\n",
    "    make_empty_instance(filename,10,10,8)\n"
   ]
  },
  {
   "cell_type": "code",
   "execution_count": 44,
   "metadata": {},
   "outputs": [],
   "source": []
  },
  {
   "cell_type": "code",
   "execution_count": 43,
   "metadata": {},
   "outputs": [],
   "source": [
    "filename = 'more_agents/low_density/instance_1.txt'\n",
    "make_empty_instance(filename,10,10, 5)\n",
    "\n",
    "filename = 'more_agents/med_density/instance_1.txt'\n",
    "make_empty_instance(filename,10,10, 10)\n",
    "\n",
    "filename = 'more_agents/high_density/instance_1.txt'\n",
    "make_empty_instance(filename,10,10, 15)"
   ]
  },
  {
   "cell_type": "code",
   "execution_count": 65,
   "metadata": {},
   "outputs": [
    {
     "data": {
      "text/plain": [
       "32"
      ]
     },
     "execution_count": 65,
     "metadata": {},
     "output_type": "execute_result"
    }
   ],
   "source": [
    "\n",
    "92-60\n"
   ]
  },
  {
   "cell_type": "code",
   "execution_count": 67,
   "metadata": {},
   "outputs": [
    {
     "data": {
      "text/plain": [
       "0.14545454545454545"
      ]
     },
     "execution_count": 67,
     "metadata": {},
     "output_type": "execute_result"
    }
   ],
   "source": [
    "8/55"
   ]
  },
  {
   "cell_type": "code",
   "execution_count": null,
   "metadata": {},
   "outputs": [],
   "source": []
  }
 ],
 "metadata": {
  "interpreter": {
   "hash": "10c3026f1289dbf037752cc9747463848e628156eb49370db5f4abd2b713cd63"
  },
  "kernelspec": {
   "display_name": "Python 3.9.5 64-bit",
   "language": "python",
   "name": "python3"
  },
  "language_info": {
   "codemirror_mode": {
    "name": "ipython",
    "version": 3
   },
   "file_extension": ".py",
   "mimetype": "text/x-python",
   "name": "python",
   "nbconvert_exporter": "python",
   "pygments_lexer": "ipython3",
   "version": "3.9.5"
  },
  "orig_nbformat": 4
 },
 "nbformat": 4,
 "nbformat_minor": 2
}
